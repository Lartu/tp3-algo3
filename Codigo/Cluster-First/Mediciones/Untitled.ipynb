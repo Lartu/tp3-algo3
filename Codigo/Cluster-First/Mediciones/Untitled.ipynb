{
 "cells": [
  {
   "cell_type": "code",
   "execution_count": null,
   "metadata": {},
   "outputs": [],
   "source": [
    "#Medicion de sweep\n",
    "import numpy as np\n",
    "import pandas as pd\n",
    "import seaborn as sns\n",
    "import math\n",
    "\n",
    "df = pd.read_csv('seaborn.csv')\n",
    "\n",
    "plot = sns.lineplot(x=\"n\", y=\"bf\", data=df);\n",
    "# plot = sns.lineplot(x=\"n\", y=\"promedio2\", data=df);\n",
    "# plot.legend([\"Algo1\", \"Algo2\"]);\n",
    "# plot.set(ylabel=\"Tiempo\");\n",
    "\n",
    "# df['promedio1/nn'] = df['tiempo'] / (df['n'] );\n",
    "\n",
    "\n",
    "# # Comparamos la función de tiempo de BU con una lineal.\n",
    "# plot = sns.lineplot(x=\"instancia\", y=\"promedio1/nn\", data=df);"
   ]
  },
  {
   "cell_type": "code",
   "execution_count": null,
   "metadata": {},
   "outputs": [],
   "source": []
  },
  {
   "cell_type": "code",
   "execution_count": null,
   "metadata": {},
   "outputs": [],
   "source": []
  },
  {
   "cell_type": "code",
   "execution_count": null,
   "metadata": {},
   "outputs": [],
   "source": []
  }
 ],
 "metadata": {
  "kernelspec": {
   "display_name": "Python 3",
   "language": "python",
   "name": "python3"
  },
  "language_info": {
   "codemirror_mode": {
    "name": "ipython",
    "version": 3
   },
   "file_extension": ".py",
   "mimetype": "text/x-python",
   "name": "python",
   "nbconvert_exporter": "python",
   "pygments_lexer": "ipython3",
   "version": "3.6.6"
  }
 },
 "nbformat": 4,
 "nbformat_minor": 2
}
